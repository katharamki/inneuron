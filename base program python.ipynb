{
 "cells": [
  {
   "cell_type": "code",
   "execution_count": 1,
   "metadata": {},
   "outputs": [
    {
     "name": "stdout",
     "output_type": "stream",
     "text": [
      "Hello Python\n"
     ]
    }
   ],
   "source": [
    "print('Hello Python')"
   ]
  },
  {
   "cell_type": "code",
   "execution_count": 13,
   "metadata": {},
   "outputs": [
    {
     "name": "stdout",
     "output_type": "stream",
     "text": [
      "a:6\n",
      "b:7\n",
      "additon 6 and division 0.8571428571428571\n"
     ]
    }
   ],
   "source": [
    "a=int(input('a:'))\n",
    "b=int(input('b:'))\n",
    "if b== 0:\n",
    "    print('b shoulb be greater then zero')\n",
    "c=a+b\n",
    "d=a/b\n",
    "print('additon {} and division {}'.format(a,d))"
   ]
  },
  {
   "cell_type": "code",
   "execution_count": 20,
   "metadata": {},
   "outputs": [
    {
     "name": "stdout",
     "output_type": "stream",
     "text": [
      "height:6\n",
      "base:7\n",
      "area of triangle  21.0\n"
     ]
    }
   ],
   "source": [
    "h =int(input('height:'))\n",
    "b=int(input('base:'))\n",
    "aot= 0.5*h*b\n",
    "print ('area of triangle  {aot}'.format(aot=aot))"
   ]
  },
  {
   "cell_type": "code",
   "execution_count": 22,
   "metadata": {},
   "outputs": [
    {
     "name": "stdout",
     "output_type": "stream",
     "text": [
      "Enter first side: 6\n",
      "Enter second side: 6\n",
      "Enter third side: 6\n",
      "The area of the triangle is 15.588457268119896\n"
     ]
    }
   ],
   "source": [
    "a = int(input('Enter first side: '))\n",
    "b = int(input('Enter second side: '))\n",
    "c = int(input('Enter third side: '))\n",
    "\n",
    "s = (a + b + c) / 2\n",
    " \n",
    "area = (s*(s-a)*(s-b)*(s-c)) ** 0.5\n",
    "print('The area of the triangle is {}'.format(area))"
   ]
  },
  {
   "cell_type": "code",
   "execution_count": 26,
   "metadata": {},
   "outputs": [
    {
     "name": "stdout",
     "output_type": "stream",
     "text": [
      "a:6\n",
      "b:7\n",
      "Value of a: 7\n",
      "Value of b: 6\n"
     ]
    }
   ],
   "source": [
    "a=int(input('a:'))\n",
    "b=int(input('b:'))\n",
    "a, b = b, a\n",
    " \n",
    "print(\"Value of a:\", a)\n",
    "print(\"Value of b:\", b)"
   ]
  },
  {
   "cell_type": "code",
   "execution_count": 32,
   "metadata": {},
   "outputs": [
    {
     "name": "stdout",
     "output_type": "stream",
     "text": [
      "2\n"
     ]
    }
   ],
   "source": [
    "import random\n",
    "\n",
    "i =range(20)\n",
    "print(random.choice(i))"
   ]
  },
  {
   "cell_type": "code",
   "execution_count": null,
   "metadata": {},
   "outputs": [],
   "source": []
  }
 ],
 "metadata": {
  "kernelspec": {
   "display_name": "Python 3",
   "language": "python",
   "name": "python3"
  },
  "language_info": {
   "codemirror_mode": {
    "name": "ipython",
    "version": 3
   },
   "file_extension": ".py",
   "mimetype": "text/x-python",
   "name": "python",
   "nbconvert_exporter": "python",
   "pygments_lexer": "ipython3",
   "version": "3.8.5"
  },
  "toc": {
   "base_numbering": 1,
   "nav_menu": {},
   "number_sections": true,
   "sideBar": true,
   "skip_h1_title": false,
   "title_cell": "Table of Contents",
   "title_sidebar": "Contents",
   "toc_cell": false,
   "toc_position": {},
   "toc_section_display": true,
   "toc_window_display": false
  }
 },
 "nbformat": 4,
 "nbformat_minor": 4
}
